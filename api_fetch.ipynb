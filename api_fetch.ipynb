{
 "cells": [
  {
   "cell_type": "code",
   "execution_count": 1,
   "metadata": {},
   "outputs": [],
   "source": [
    "# import pandas as pd\n",
    "# import numpy as np\n",
    "# import requests\n",
    "\n",
    "# # Path: api_fetch.ipynb\n",
    "# def get_data(self,api):\n",
    "#     response = requests.get(f\"{api}\")\n",
    "#     if response.status_code == 200:\n",
    "#         print(\"Succesfully fetched the data\")\n",
    "#         self.formatted_print(response.json())\n",
    "#     else:\n",
    "#         print(f\"Error: {response}\")"
   ]
  },
  {
   "cell_type": "code",
   "execution_count": 1,
   "metadata": {},
   "outputs": [
    {
     "name": "stderr",
     "output_type": "stream",
     "text": [
      "Exception in thread Thread-5 (_run_via_pool):\n",
      "Traceback (most recent call last):\n",
      "  File \"C:\\Program Files\\WindowsApps\\PythonSoftwareFoundation.Python.3.10_3.10.1520.0_x64__qbz5n2kfra8p0\\lib\\threading.py\", line 1016, in _bootstrap_inner\n",
      "    self.run()\n",
      "  File \"C:\\Program Files\\WindowsApps\\PythonSoftwareFoundation.Python.3.10_3.10.1520.0_x64__qbz5n2kfra8p0\\lib\\threading.py\", line 953, in run\n",
      "    self._target(*self._args, **self._kwargs)\n",
      "  File \"C:\\Users\\parth\\AppData\\Local\\Packages\\PythonSoftwareFoundation.Python.3.10_qbz5n2kfra8p0\\LocalCache\\local-packages\\Python310\\site-packages\\multitasking\\__init__.py\", line 104, in _run_via_pool\n",
      "    return callee(*args, **kwargs)\n",
      "  File \"C:\\Users\\parth\\AppData\\Local\\Packages\\PythonSoftwareFoundation.Python.3.10_qbz5n2kfra8p0\\LocalCache\\local-packages\\Python310\\site-packages\\yfinance\\multi.py\", line 188, in _download_one_threaded\n",
      "    data = _download_one(ticker, start, end, auto_adjust, back_adjust,\n",
      "  File \"C:\\Users\\parth\\AppData\\Local\\Packages\\PythonSoftwareFoundation.Python.3.10_qbz5n2kfra8p0\\LocalCache\\local-packages\\Python310\\site-packages\\yfinance\\multi.py\", line 202, in _download_one\n",
      "    return Ticker(ticker).history(period=period, interval=interval,\n",
      "  File \"C:\\Users\\parth\\AppData\\Local\\Packages\\PythonSoftwareFoundation.Python.3.10_qbz5n2kfra8p0\\LocalCache\\local-packages\\Python310\\site-packages\\yfinance\\base.py\", line 279, in history\n",
      "    df.index = df.index.tz_localize(\"UTC\").tz_convert(\n",
      "AttributeError: 'Index' object has no attribute 'tz_localize'\n"
     ]
    },
    {
     "ename": "KeyboardInterrupt",
     "evalue": "",
     "output_type": "error",
     "traceback": [
      "\u001b[1;31m---------------------------------------------------------------------------\u001b[0m",
      "\u001b[1;31mKeyboardInterrupt\u001b[0m                         Traceback (most recent call last)",
      "\u001b[1;32mc:\\Users\\parth\\OneDrive\\Desktop\\DESKTOP\\AI generated C code vulnarability\\Python_VIM\\Project_PairsTrading\\api_fetch.ipynb Cell 2\u001b[0m line \u001b[0;36m<cell line: 16>\u001b[1;34m()\u001b[0m\n\u001b[0;32m     <a href='vscode-notebook-cell:/c%3A/Users/parth/OneDrive/Desktop/DESKTOP/AI%20generated%20C%20code%20vulnarability/Python_VIM/Project_PairsTrading/api_fetch.ipynb#W1sZmlsZQ%3D%3D?line=12'>13</a>\u001b[0m         \u001b[39mreturn\u001b[39;00m data\n\u001b[0;32m     <a href='vscode-notebook-cell:/c%3A/Users/parth/OneDrive/Desktop/DESKTOP/AI%20generated%20C%20code%20vulnarability/Python_VIM/Project_PairsTrading/api_fetch.ipynb#W1sZmlsZQ%3D%3D?line=14'>15</a>\u001b[0m ticks \u001b[39m=\u001b[39m [\u001b[39m\"\u001b[39m\u001b[39mDPZ\u001b[39m\u001b[39m\"\u001b[39m, \u001b[39m\"\u001b[39m\u001b[39mAAPL\u001b[39m\u001b[39m\"\u001b[39m, \u001b[39m\"\u001b[39m\u001b[39mGOOG\u001b[39m\u001b[39m\"\u001b[39m, \u001b[39m\"\u001b[39m\u001b[39mAMD\u001b[39m\u001b[39m\"\u001b[39m, \u001b[39m\"\u001b[39m\u001b[39mGME\u001b[39m\u001b[39m\"\u001b[39m, \u001b[39m\"\u001b[39m\u001b[39mSPY\u001b[39m\u001b[39m\"\u001b[39m, \u001b[39m\"\u001b[39m\u001b[39mNFLX\u001b[39m\u001b[39m\"\u001b[39m, \u001b[39m\"\u001b[39m\u001b[39mBA\u001b[39m\u001b[39m\"\u001b[39m, \u001b[39m\"\u001b[39m\u001b[39mWMT\u001b[39m\u001b[39m\"\u001b[39m,\u001b[39m\"\u001b[39m\u001b[39mTWTR\u001b[39m\u001b[39m\"\u001b[39m,\u001b[39m\"\u001b[39m\u001b[39mGS\u001b[39m\u001b[39m\"\u001b[39m,\u001b[39m\"\u001b[39m\u001b[39mXOM\u001b[39m\u001b[39m\"\u001b[39m,\u001b[39m\"\u001b[39m\u001b[39mNKE\u001b[39m\u001b[39m\"\u001b[39m,\u001b[39m\"\u001b[39m\u001b[39mFEYE\u001b[39m\u001b[39m\"\u001b[39m, \u001b[39m\"\u001b[39m\u001b[39mFB\u001b[39m\u001b[39m\"\u001b[39m,\u001b[39m\"\u001b[39m\u001b[39mBRK-B\u001b[39m\u001b[39m\"\u001b[39m, \u001b[39m\"\u001b[39m\u001b[39mMSFT\u001b[39m\u001b[39m\"\u001b[39m] \u001b[39m#Name of company (Dominos pizza)\u001b[39;00m\n\u001b[1;32m---> <a href='vscode-notebook-cell:/c%3A/Users/parth/OneDrive/Desktop/DESKTOP/AI%20generated%20C%20code%20vulnarability/Python_VIM/Project_PairsTrading/api_fetch.ipynb#W1sZmlsZQ%3D%3D?line=15'>16</a>\u001b[0m d \u001b[39m=\u001b[39m get_historical_data(ticks)\n\u001b[0;32m     <a href='vscode-notebook-cell:/c%3A/Users/parth/OneDrive/Desktop/DESKTOP/AI%20generated%20C%20code%20vulnarability/Python_VIM/Project_PairsTrading/api_fetch.ipynb#W1sZmlsZQ%3D%3D?line=16'>17</a>\u001b[0m \u001b[39mprint\u001b[39m(d\u001b[39m.\u001b[39mshape)\n",
      "\u001b[1;32mc:\\Users\\parth\\OneDrive\\Desktop\\DESKTOP\\AI generated C code vulnarability\\Python_VIM\\Project_PairsTrading\\api_fetch.ipynb Cell 2\u001b[0m line \u001b[0;36mget_historical_data\u001b[1;34m(tickers)\u001b[0m\n\u001b[0;32m      <a href='vscode-notebook-cell:/c%3A/Users/parth/OneDrive/Desktop/DESKTOP/AI%20generated%20C%20code%20vulnarability/Python_VIM/Project_PairsTrading/api_fetch.ipynb#W1sZmlsZQ%3D%3D?line=7'>8</a>\u001b[0m names \u001b[39m=\u001b[39m \u001b[39mlist\u001b[39m()\n\u001b[0;32m      <a href='vscode-notebook-cell:/c%3A/Users/parth/OneDrive/Desktop/DESKTOP/AI%20generated%20C%20code%20vulnarability/Python_VIM/Project_PairsTrading/api_fetch.ipynb#W1sZmlsZQ%3D%3D?line=8'>9</a>\u001b[0m \u001b[39mfor\u001b[39;00m i \u001b[39min\u001b[39;00m tickers:\n\u001b[1;32m---> <a href='vscode-notebook-cell:/c%3A/Users/parth/OneDrive/Desktop/DESKTOP/AI%20generated%20C%20code%20vulnarability/Python_VIM/Project_PairsTrading/api_fetch.ipynb#W1sZmlsZQ%3D%3D?line=9'>10</a>\u001b[0m     data \u001b[39m=\u001b[39m pd\u001b[39m.\u001b[39mconcat([data, pd\u001b[39m.\u001b[39mDataFrame(yf\u001b[39m.\u001b[39;49mdownload(i, start\u001b[39m=\u001b[39;49mdatetime(\u001b[39m2020\u001b[39;49m, \u001b[39m10\u001b[39;49m, \u001b[39m27\u001b[39;49m), end\u001b[39m=\u001b[39;49mdatetime(\u001b[39m2021\u001b[39;49m, \u001b[39m10\u001b[39;49m, \u001b[39m27\u001b[39;49m))\u001b[39m.\u001b[39miloc[:,\u001b[39m4\u001b[39m])], axis \u001b[39m=\u001b[39m \u001b[39m1\u001b[39m)\n\u001b[0;32m     <a href='vscode-notebook-cell:/c%3A/Users/parth/OneDrive/Desktop/DESKTOP/AI%20generated%20C%20code%20vulnarability/Python_VIM/Project_PairsTrading/api_fetch.ipynb#W1sZmlsZQ%3D%3D?line=10'>11</a>\u001b[0m     names\u001b[39m.\u001b[39mappend(i)\n\u001b[0;32m     <a href='vscode-notebook-cell:/c%3A/Users/parth/OneDrive/Desktop/DESKTOP/AI%20generated%20C%20code%20vulnarability/Python_VIM/Project_PairsTrading/api_fetch.ipynb#W1sZmlsZQ%3D%3D?line=11'>12</a>\u001b[0m     data\u001b[39m.\u001b[39mcolumns \u001b[39m=\u001b[39m names\n",
      "File \u001b[1;32m~\\AppData\\Local\\Packages\\PythonSoftwareFoundation.Python.3.10_qbz5n2kfra8p0\\LocalCache\\local-packages\\Python310\\site-packages\\yfinance\\multi.py:112\u001b[0m, in \u001b[0;36mdownload\u001b[1;34m(tickers, start, end, actions, threads, group_by, auto_adjust, back_adjust, progress, period, show_errors, interval, prepost, proxy, rounding, timeout, **kwargs)\u001b[0m\n\u001b[0;32m    105\u001b[0m         _download_one_threaded(ticker, period\u001b[39m=\u001b[39mperiod, interval\u001b[39m=\u001b[39minterval,\n\u001b[0;32m    106\u001b[0m                                start\u001b[39m=\u001b[39mstart, end\u001b[39m=\u001b[39mend, prepost\u001b[39m=\u001b[39mprepost,\n\u001b[0;32m    107\u001b[0m                                actions\u001b[39m=\u001b[39mactions, auto_adjust\u001b[39m=\u001b[39mauto_adjust,\n\u001b[0;32m    108\u001b[0m                                back_adjust\u001b[39m=\u001b[39mback_adjust,\n\u001b[0;32m    109\u001b[0m                                progress\u001b[39m=\u001b[39m(progress \u001b[39mand\u001b[39;00m i \u001b[39m>\u001b[39m \u001b[39m0\u001b[39m), proxy\u001b[39m=\u001b[39mproxy,\n\u001b[0;32m    110\u001b[0m                                rounding\u001b[39m=\u001b[39mrounding, timeout\u001b[39m=\u001b[39mtimeout)\n\u001b[0;32m    111\u001b[0m     \u001b[39mwhile\u001b[39;00m \u001b[39mlen\u001b[39m(shared\u001b[39m.\u001b[39m_DFS) \u001b[39m<\u001b[39m \u001b[39mlen\u001b[39m(tickers):\n\u001b[1;32m--> 112\u001b[0m         _time\u001b[39m.\u001b[39;49msleep(\u001b[39m0.01\u001b[39;49m)\n\u001b[0;32m    114\u001b[0m \u001b[39m# download synchronously\u001b[39;00m\n\u001b[0;32m    115\u001b[0m \u001b[39melse\u001b[39;00m:\n\u001b[0;32m    116\u001b[0m     \u001b[39mfor\u001b[39;00m i, ticker \u001b[39min\u001b[39;00m \u001b[39menumerate\u001b[39m(tickers):\n",
      "\u001b[1;31mKeyboardInterrupt\u001b[0m: "
     ]
    }
   ],
   "source": [
    "import pandas as pd\n",
    "# import pandas_datareader as pdr\n",
    "from datetime import datetime\n",
    "import yfinance as yf\n",
    "\n",
    "def get_historical_data(tickers):\n",
    "    data = pd.DataFrame()\n",
    "    names = list()\n",
    "    for i in tickers:\n",
    "        data = pd.concat([data, pd.DataFrame(yf.download(i, start=datetime(2020, 10, 27), end=datetime(2021, 10, 27)).iloc[:,4])], axis = 1)\n",
    "        names.append(i)\n",
    "        data.columns = names\n",
    "        return data\n",
    "\n",
    "ticks = [\"DPZ\", \"AAPL\", \"GOOG\", \"AMD\", \"GME\", \"SPY\", \"NFLX\", \"BA\", \"WMT\",\"TWTR\",\"GS\",\"XOM\",\"NKE\",\"FEYE\", \"FB\",\"BRK-B\", \"MSFT\"] #Name of company (Dominos pizza)\n",
    "d = get_historical_data(ticks)\n",
    "print(d.shape)\n",
    "\n"
   ]
  },
  {
   "cell_type": "code",
   "execution_count": 3,
   "metadata": {},
   "outputs": [
    {
     "ename": "ModuleNotFoundError",
     "evalue": "No module named 'pandas_datareader'",
     "output_type": "error",
     "traceback": [
      "\u001b[1;31m---------------------------------------------------------------------------\u001b[0m",
      "\u001b[1;31mModuleNotFoundError\u001b[0m                       Traceback (most recent call last)",
      "\u001b[1;32mc:\\Users\\parth\\OneDrive\\Desktop\\DESKTOP\\AI generated C code vulnarability\\Python_VIM\\Project_PairsTrading\\api_fetch.ipynb Cell 3\u001b[0m line \u001b[0;36m<cell line: 1>\u001b[1;34m()\u001b[0m\n\u001b[1;32m----> <a href='vscode-notebook-cell:/c%3A/Users/parth/OneDrive/Desktop/DESKTOP/AI%20generated%20C%20code%20vulnarability/Python_VIM/Project_PairsTrading/api_fetch.ipynb#W2sZmlsZQ%3D%3D?line=0'>1</a>\u001b[0m \u001b[39mfrom\u001b[39;00m \u001b[39mpandas_datareader\u001b[39;00m \u001b[39mimport\u001b[39;00m data \u001b[39mas\u001b[39;00m pdr\n\u001b[0;32m      <a href='vscode-notebook-cell:/c%3A/Users/parth/OneDrive/Desktop/DESKTOP/AI%20generated%20C%20code%20vulnarability/Python_VIM/Project_PairsTrading/api_fetch.ipynb#W2sZmlsZQ%3D%3D?line=1'>2</a>\u001b[0m \u001b[39mimport\u001b[39;00m \u001b[39myfinance\u001b[39;00m \u001b[39mas\u001b[39;00m \u001b[39myf\u001b[39;00m\n\u001b[0;32m      <a href='vscode-notebook-cell:/c%3A/Users/parth/OneDrive/Desktop/DESKTOP/AI%20generated%20C%20code%20vulnarability/Python_VIM/Project_PairsTrading/api_fetch.ipynb#W2sZmlsZQ%3D%3D?line=2'>3</a>\u001b[0m yf\u001b[39m.\u001b[39mpdr_override()\n",
      "\u001b[1;31mModuleNotFoundError\u001b[0m: No module named 'pandas_datareader'"
     ]
    }
   ],
   "source": [
    "from pandas_datareader import data as pdr\n",
    "import yfinance as yf\n",
    "yf.pdr_override()\n",
    "data = pdr.get_data_yahoo(\"SPY\",start=\"2017-01-01\", end=\"2017-04-30\")"
   ]
  },
  {
   "cell_type": "code",
   "execution_count": null,
   "metadata": {},
   "outputs": [],
   "source": []
  }
 ],
 "metadata": {
  "kernelspec": {
   "display_name": "Python 3",
   "language": "python",
   "name": "python3"
  },
  "language_info": {
   "codemirror_mode": {
    "name": "ipython",
    "version": 3
   },
   "file_extension": ".py",
   "mimetype": "text/x-python",
   "name": "python",
   "nbconvert_exporter": "python",
   "pygments_lexer": "ipython3",
   "version": "3.10.5"
  },
  "orig_nbformat": 4
 },
 "nbformat": 4,
 "nbformat_minor": 2
}
